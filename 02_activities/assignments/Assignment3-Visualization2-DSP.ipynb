{
 "cells": [
  {
   "cell_type": "markdown",
   "id": "afb06ece",
   "metadata": {},
   "source": [
    "Assignment 3 - Visualization 2 - Darshan Panesar"
   ]
  },
  {
   "cell_type": "markdown",
   "id": "0e4ca07b",
   "metadata": {},
   "source": [
    "2024 Monthly Average of Covid Hospitalizations and ICU Patients in Toronto\n",
    "\n",
    "Dataset: COVID-19 cases in hospital and ICU, by Ontario Health (OH) region\n",
    "Spanning 2020-2024\n",
    "\n",
    "Link: https://data.ontario.ca/dataset/covid-19-cases-in-hospital-and-icu-by-ontario-health-region \n",
    "\n",
    "Note: for this assignment only part of the dataset was used. Specifically the Toronto data out of all the regional data. To do so the data was filtered in excel by filtering for Toronto. and a new excel sheet was generated with the Toronto data only. Then a second filter was used to get only the 2024 values - as the data set was quite large spanning 2020-2024.\n",
    "\n",
    "For the graph plotly was used - with lecture 5 as the reference"
   ]
  },
  {
   "cell_type": "code",
   "execution_count": 1,
   "id": "c084f11b",
   "metadata": {},
   "outputs": [],
   "source": [
    "#Import Packages:\n",
    "import pandas as pd\n",
    "import numpy as np\n",
    "import plotly.graph_objects as go"
   ]
  },
  {
   "cell_type": "code",
   "execution_count": 2,
   "id": "ce99b9a1",
   "metadata": {},
   "outputs": [
    {
     "data": {
      "text/html": [
       "<div>\n",
       "<style scoped>\n",
       "    .dataframe tbody tr th:only-of-type {\n",
       "        vertical-align: middle;\n",
       "    }\n",
       "\n",
       "    .dataframe tbody tr th {\n",
       "        vertical-align: top;\n",
       "    }\n",
       "\n",
       "    .dataframe thead th {\n",
       "        text-align: right;\n",
       "    }\n",
       "</style>\n",
       "<table border=\"1\" class=\"dataframe\">\n",
       "  <thead>\n",
       "    <tr style=\"text-align: right;\">\n",
       "      <th></th>\n",
       "      <th>_id</th>\n",
       "      <th>date</th>\n",
       "      <th>date_ymd</th>\n",
       "      <th>date_md</th>\n",
       "      <th>oh_region</th>\n",
       "      <th>hospitalizations</th>\n",
       "      <th>icu_current_covid</th>\n",
       "      <th>icu_crci_total</th>\n",
       "      <th>icu_current_covid_vented</th>\n",
       "      <th>icu_crci_total_vented</th>\n",
       "      <th>icu_former_covid</th>\n",
       "      <th>icu_former_covid_vented</th>\n",
       "    </tr>\n",
       "  </thead>\n",
       "  <tbody>\n",
       "    <tr>\n",
       "      <th>0</th>\n",
       "      <td>38531</td>\n",
       "      <td>2024-01-01T00:00:00</td>\n",
       "      <td>01/01/2024</td>\n",
       "      <td>2025-01-01 00:00:00</td>\n",
       "      <td>TORONTO</td>\n",
       "      <td>344</td>\n",
       "      <td>25</td>\n",
       "      <td>35</td>\n",
       "      <td>14</td>\n",
       "      <td>18</td>\n",
       "      <td>10</td>\n",
       "      <td>4</td>\n",
       "    </tr>\n",
       "    <tr>\n",
       "      <th>1</th>\n",
       "      <td>38532</td>\n",
       "      <td>2024-01-02T00:00:00</td>\n",
       "      <td>01/02/2024</td>\n",
       "      <td>2025-01-02 00:00:00</td>\n",
       "      <td>TORONTO</td>\n",
       "      <td>346</td>\n",
       "      <td>23</td>\n",
       "      <td>32</td>\n",
       "      <td>14</td>\n",
       "      <td>17</td>\n",
       "      <td>9</td>\n",
       "      <td>3</td>\n",
       "    </tr>\n",
       "    <tr>\n",
       "      <th>2</th>\n",
       "      <td>38533</td>\n",
       "      <td>2024-01-03T00:00:00</td>\n",
       "      <td>01/03/2024</td>\n",
       "      <td>2025-01-03 00:00:00</td>\n",
       "      <td>TORONTO</td>\n",
       "      <td>349</td>\n",
       "      <td>21</td>\n",
       "      <td>28</td>\n",
       "      <td>16</td>\n",
       "      <td>18</td>\n",
       "      <td>7</td>\n",
       "      <td>2</td>\n",
       "    </tr>\n",
       "    <tr>\n",
       "      <th>3</th>\n",
       "      <td>38534</td>\n",
       "      <td>2024-01-04T00:00:00</td>\n",
       "      <td>01/04/2024</td>\n",
       "      <td>2025-01-04 00:00:00</td>\n",
       "      <td>TORONTO</td>\n",
       "      <td>330</td>\n",
       "      <td>20</td>\n",
       "      <td>26</td>\n",
       "      <td>13</td>\n",
       "      <td>16</td>\n",
       "      <td>6</td>\n",
       "      <td>3</td>\n",
       "    </tr>\n",
       "    <tr>\n",
       "      <th>4</th>\n",
       "      <td>38535</td>\n",
       "      <td>2024-01-05T00:00:00</td>\n",
       "      <td>01/05/2024</td>\n",
       "      <td>2025-01-05 00:00:00</td>\n",
       "      <td>TORONTO</td>\n",
       "      <td>298</td>\n",
       "      <td>21</td>\n",
       "      <td>25</td>\n",
       "      <td>14</td>\n",
       "      <td>16</td>\n",
       "      <td>4</td>\n",
       "      <td>2</td>\n",
       "    </tr>\n",
       "  </tbody>\n",
       "</table>\n",
       "</div>"
      ],
      "text/plain": [
       "     _id                 date    date_ymd              date_md oh_region  \\\n",
       "0  38531  2024-01-01T00:00:00  01/01/2024  2025-01-01 00:00:00   TORONTO   \n",
       "1  38532  2024-01-02T00:00:00  01/02/2024  2025-01-02 00:00:00   TORONTO   \n",
       "2  38533  2024-01-03T00:00:00  01/03/2024  2025-01-03 00:00:00   TORONTO   \n",
       "3  38534  2024-01-04T00:00:00  01/04/2024  2025-01-04 00:00:00   TORONTO   \n",
       "4  38535  2024-01-05T00:00:00  01/05/2024  2025-01-05 00:00:00   TORONTO   \n",
       "\n",
       "   hospitalizations  icu_current_covid  icu_crci_total  \\\n",
       "0               344                 25              35   \n",
       "1               346                 23              32   \n",
       "2               349                 21              28   \n",
       "3               330                 20              26   \n",
       "4               298                 21              25   \n",
       "\n",
       "   icu_current_covid_vented  icu_crci_total_vented  icu_former_covid  \\\n",
       "0                        14                     18                10   \n",
       "1                        14                     17                 9   \n",
       "2                        16                     18                 7   \n",
       "3                        13                     16                 6   \n",
       "4                        14                     16                 4   \n",
       "\n",
       "   icu_former_covid_vented  \n",
       "0                        4  \n",
       "1                        3  \n",
       "2                        2  \n",
       "3                        3  \n",
       "4                        2  "
      ]
     },
     "execution_count": 2,
     "metadata": {},
     "output_type": "execute_result"
    }
   ],
   "source": [
    "#import data file:\n",
    "df = pd.read_excel('/Users/darshs/Documents/visualization-main/toronto_covid_oh_2024.xlsx')\n",
    "\n",
    "#prints first 5 rows of data\n",
    "df.head()"
   ]
  },
  {
   "cell_type": "code",
   "execution_count": 3,
   "id": "41c79c01",
   "metadata": {},
   "outputs": [
    {
     "name": "stdout",
     "output_type": "stream",
     "text": [
      "   date_ymd  hospitalizations  icu_current_covid\n",
      "0   2024-01        235.290323          17.548387\n",
      "1   2024-02         88.655172           7.551724\n",
      "2   2024-03         40.419355           3.387097\n",
      "3   2024-04         42.866667           3.166667\n",
      "4   2024-05         91.612903           2.451613\n",
      "5   2024-06         77.200000           2.033333\n",
      "6   2024-07         82.225806           4.258065\n",
      "7   2024-08        110.935484           4.225806\n",
      "8   2024-09        130.400000           4.900000\n",
      "9   2024-10        113.451613           5.032258\n",
      "10  2024-11         91.920000           5.680000\n"
     ]
    }
   ],
   "source": [
    "#Make a variable for monthly averages for both hospitalizations and ICU patients with covid\n",
    "#Reference: https://stackoverflow.com/questions/65471540/get-monthly-average-in-pandas and https://pandas.pydata.org/docs/user_guide/groupby.html\n",
    "\n",
    "month_avg = df.groupby(pd.PeriodIndex(df['date_ymd'], freq = 'M'))[['hospitalizations', 'icu_current_covid']].mean().reset_index()\n",
    "\n",
    "\n",
    "print(month_avg)"
   ]
  },
  {
   "cell_type": "code",
   "execution_count": 4,
   "id": "9df65206",
   "metadata": {},
   "outputs": [
    {
     "data": {
      "text/plain": [
       "0       January\n",
       "1      February\n",
       "2         March\n",
       "3         April\n",
       "4           May\n",
       "5          June\n",
       "6          July\n",
       "7        August\n",
       "8     September\n",
       "9       October\n",
       "10     November\n",
       "Name: date_ymd, dtype: object"
      ]
     },
     "execution_count": 4,
     "metadata": {},
     "output_type": "execute_result"
    }
   ],
   "source": [
    "#Convert the date into just the month name - not necessary but visually better\n",
    "#Reference: https://www.programiz.com/python-programming/datetime/strftime \n",
    "\n",
    "month_avg['date_ymd'] = month_avg['date_ymd'].dt.strftime('%B') #The (%B) is the month name and strftime is the converting function\n",
    "\n",
    "month_avg['date_ymd']\n"
   ]
  },
  {
   "cell_type": "code",
   "execution_count": 5,
   "id": "49800292",
   "metadata": {},
   "outputs": [
    {
     "name": "stdout",
     "output_type": "stream",
     "text": [
      "date_ymd\n",
      "2024-01    22.162375\n",
      "2024-02     6.669019\n",
      "2024-03     1.690928\n",
      "2024-04     2.606639\n",
      "2024-05     4.502980\n",
      "2024-06     3.859930\n",
      "2024-07     3.033859\n",
      "2024-08     7.177378\n",
      "2024-09     3.825013\n",
      "2024-10     6.342659\n",
      "2024-11     2.154840\n",
      "Freq: M, Name: hospitalizations, dtype: float64\n",
      "date_ymd\n",
      "2024-01    0.978058\n",
      "2024-02    0.855032\n",
      "2024-03    0.277187\n",
      "2024-04    0.210736\n",
      "2024-05    0.309826\n",
      "2024-06    0.367004\n",
      "2024-07    0.696170\n",
      "2024-08    0.645308\n",
      "2024-09    0.483910\n",
      "2024-10    0.629978\n",
      "2024-11    0.366391\n",
      "Freq: M, Name: icu_current_covid, dtype: float64\n"
     ]
    }
   ],
   "source": [
    "#Calculate standard error of the mean (SEM) for both variables: note this needs to be calculated from the OG data for each month\n",
    "# Reference: https://www.statology.org/standard-error-of-mean-python/\n",
    "#For groupby functions: https://pandas.pydata.org/docs/user_guide/groupby.html\n",
    "\n",
    "sem_hospitalizations = df.groupby(pd.PeriodIndex(df['date_ymd'], freq = 'M'))['hospitalizations'].apply(lambda x: x.std()) / np.sqrt(len(month_avg['hospitalizations']))\n",
    "sem_icu = df.groupby(pd.PeriodIndex(df['date_ymd'], freq = 'M'))['icu_current_covid'].apply(lambda x: x.std()) / np.sqrt(len(month_avg['icu_current_covid']))\n",
    "\n",
    "print(sem_hospitalizations)\n",
    "print(sem_icu)"
   ]
  },
  {
   "cell_type": "code",
   "execution_count": 6,
   "id": "352086a8",
   "metadata": {},
   "outputs": [],
   "source": [
    "#x and y axis values\n",
    "x = month_avg['date_ymd'] #Month\n",
    "y1 = month_avg['hospitalizations'] #Hospitalizations with COVID-19\n",
    "y2 = month_avg['icu_current_covid'] #ICU Patients with COVID-19"
   ]
  },
  {
   "cell_type": "code",
   "execution_count": 7,
   "id": "e7c7fe28",
   "metadata": {},
   "outputs": [],
   "source": [
    "# Customizations for graph:\n",
    "\n",
    "title_font = dict(family='Arial', size=20, color='black')\n",
    "x_font = dict(family='Comic Sans MS', size=12, color='black')\n",
    "y_font = dict(family='Comic Sans MS', size=12, color='black')\n"
   ]
  },
  {
   "cell_type": "code",
   "execution_count": 8,
   "id": "25b6cc91",
   "metadata": {},
   "outputs": [
    {
     "data": {
      "application/vnd.plotly.v1+json": {
       "config": {
        "plotlyServerURL": "https://plot.ly"
       },
       "data": [
        {
         "error_y": {
          "array": {
           "bdata": "gScYapEpNkDdSX5fE60aQNcPj4cKDvs/fPLTfmXaBECQRfRNDQMSQKH5E/oi4Q5Ay7hI7FdFCEDyfgquorUcQMQA9C2gmQ5AuquEDOJeGUBk6Nd/HD0BQA==",
           "dtype": "f8"
          },
          "color": "black",
          "type": "data"
         },
         "marker": {
          "color": "green"
         },
         "name": "Hospitalizations with COVID-19",
         "type": "bar",
         "x": [
          "January",
          "February",
          "March",
          "April",
          "May",
          "June",
          "July",
          "August",
          "September",
          "October",
          "November"
         ],
         "y": {
          "bdata": "KaWUUkppbUDmnkZY7ilWQLbWWmutNURA7+7u7u5uRUDnnHPOOedWQM3MzMzMTFNAzjnnnHOOVEB877333rtbQM3MzMzMTGBAnXPOOedcXEB7FK5H4fpWQA==",
          "dtype": "f8"
         }
        },
        {
         "error_y": {
          "array": {
           "bdata": "xFcGI0FM7z9zSqOCa1zrP7eE0SRwvdE/9yXXu2T5yj/ps6GhMNTTPwlcAEH9fNc/NmVQxwZH5j/7R3TBXKbkP77Puldj+N4/dkCPEMco5D84gp6T83LXPw==",
           "dtype": "f8"
          },
          "color": "black",
          "type": "data"
         },
         "marker": {
          "color": "red"
         },
         "name": "ICU Patients with COVID-19",
         "type": "bar",
         "x": [
          "January",
          "February",
          "March",
          "April",
          "May",
          "June",
          "July",
          "August",
          "September",
          "October",
          "November"
         ],
         "y": {
          "bdata": "jDHGGGOMMUBzTyMs9zQeQBljjDHGGAtAVVVVVVVVCUCdc84555wDQERERERERABACCGEEEIIEUDnnHPOOecQQJqZmZmZmRNAIYQQQgghFEC4HoXrUbgWQA==",
          "dtype": "f8"
         }
        }
       ],
       "layout": {
        "template": {
         "data": {
          "bar": [
           {
            "error_x": {
             "color": "#2a3f5f"
            },
            "error_y": {
             "color": "#2a3f5f"
            },
            "marker": {
             "line": {
              "color": "#E5ECF6",
              "width": 0.5
             },
             "pattern": {
              "fillmode": "overlay",
              "size": 10,
              "solidity": 0.2
             }
            },
            "type": "bar"
           }
          ],
          "barpolar": [
           {
            "marker": {
             "line": {
              "color": "#E5ECF6",
              "width": 0.5
             },
             "pattern": {
              "fillmode": "overlay",
              "size": 10,
              "solidity": 0.2
             }
            },
            "type": "barpolar"
           }
          ],
          "carpet": [
           {
            "aaxis": {
             "endlinecolor": "#2a3f5f",
             "gridcolor": "white",
             "linecolor": "white",
             "minorgridcolor": "white",
             "startlinecolor": "#2a3f5f"
            },
            "baxis": {
             "endlinecolor": "#2a3f5f",
             "gridcolor": "white",
             "linecolor": "white",
             "minorgridcolor": "white",
             "startlinecolor": "#2a3f5f"
            },
            "type": "carpet"
           }
          ],
          "choropleth": [
           {
            "colorbar": {
             "outlinewidth": 0,
             "ticks": ""
            },
            "type": "choropleth"
           }
          ],
          "contour": [
           {
            "colorbar": {
             "outlinewidth": 0,
             "ticks": ""
            },
            "colorscale": [
             [
              0,
              "#0d0887"
             ],
             [
              0.1111111111111111,
              "#46039f"
             ],
             [
              0.2222222222222222,
              "#7201a8"
             ],
             [
              0.3333333333333333,
              "#9c179e"
             ],
             [
              0.4444444444444444,
              "#bd3786"
             ],
             [
              0.5555555555555556,
              "#d8576b"
             ],
             [
              0.6666666666666666,
              "#ed7953"
             ],
             [
              0.7777777777777778,
              "#fb9f3a"
             ],
             [
              0.8888888888888888,
              "#fdca26"
             ],
             [
              1,
              "#f0f921"
             ]
            ],
            "type": "contour"
           }
          ],
          "contourcarpet": [
           {
            "colorbar": {
             "outlinewidth": 0,
             "ticks": ""
            },
            "type": "contourcarpet"
           }
          ],
          "heatmap": [
           {
            "colorbar": {
             "outlinewidth": 0,
             "ticks": ""
            },
            "colorscale": [
             [
              0,
              "#0d0887"
             ],
             [
              0.1111111111111111,
              "#46039f"
             ],
             [
              0.2222222222222222,
              "#7201a8"
             ],
             [
              0.3333333333333333,
              "#9c179e"
             ],
             [
              0.4444444444444444,
              "#bd3786"
             ],
             [
              0.5555555555555556,
              "#d8576b"
             ],
             [
              0.6666666666666666,
              "#ed7953"
             ],
             [
              0.7777777777777778,
              "#fb9f3a"
             ],
             [
              0.8888888888888888,
              "#fdca26"
             ],
             [
              1,
              "#f0f921"
             ]
            ],
            "type": "heatmap"
           }
          ],
          "histogram": [
           {
            "marker": {
             "pattern": {
              "fillmode": "overlay",
              "size": 10,
              "solidity": 0.2
             }
            },
            "type": "histogram"
           }
          ],
          "histogram2d": [
           {
            "colorbar": {
             "outlinewidth": 0,
             "ticks": ""
            },
            "colorscale": [
             [
              0,
              "#0d0887"
             ],
             [
              0.1111111111111111,
              "#46039f"
             ],
             [
              0.2222222222222222,
              "#7201a8"
             ],
             [
              0.3333333333333333,
              "#9c179e"
             ],
             [
              0.4444444444444444,
              "#bd3786"
             ],
             [
              0.5555555555555556,
              "#d8576b"
             ],
             [
              0.6666666666666666,
              "#ed7953"
             ],
             [
              0.7777777777777778,
              "#fb9f3a"
             ],
             [
              0.8888888888888888,
              "#fdca26"
             ],
             [
              1,
              "#f0f921"
             ]
            ],
            "type": "histogram2d"
           }
          ],
          "histogram2dcontour": [
           {
            "colorbar": {
             "outlinewidth": 0,
             "ticks": ""
            },
            "colorscale": [
             [
              0,
              "#0d0887"
             ],
             [
              0.1111111111111111,
              "#46039f"
             ],
             [
              0.2222222222222222,
              "#7201a8"
             ],
             [
              0.3333333333333333,
              "#9c179e"
             ],
             [
              0.4444444444444444,
              "#bd3786"
             ],
             [
              0.5555555555555556,
              "#d8576b"
             ],
             [
              0.6666666666666666,
              "#ed7953"
             ],
             [
              0.7777777777777778,
              "#fb9f3a"
             ],
             [
              0.8888888888888888,
              "#fdca26"
             ],
             [
              1,
              "#f0f921"
             ]
            ],
            "type": "histogram2dcontour"
           }
          ],
          "mesh3d": [
           {
            "colorbar": {
             "outlinewidth": 0,
             "ticks": ""
            },
            "type": "mesh3d"
           }
          ],
          "parcoords": [
           {
            "line": {
             "colorbar": {
              "outlinewidth": 0,
              "ticks": ""
             }
            },
            "type": "parcoords"
           }
          ],
          "pie": [
           {
            "automargin": true,
            "type": "pie"
           }
          ],
          "scatter": [
           {
            "fillpattern": {
             "fillmode": "overlay",
             "size": 10,
             "solidity": 0.2
            },
            "type": "scatter"
           }
          ],
          "scatter3d": [
           {
            "line": {
             "colorbar": {
              "outlinewidth": 0,
              "ticks": ""
             }
            },
            "marker": {
             "colorbar": {
              "outlinewidth": 0,
              "ticks": ""
             }
            },
            "type": "scatter3d"
           }
          ],
          "scattercarpet": [
           {
            "marker": {
             "colorbar": {
              "outlinewidth": 0,
              "ticks": ""
             }
            },
            "type": "scattercarpet"
           }
          ],
          "scattergeo": [
           {
            "marker": {
             "colorbar": {
              "outlinewidth": 0,
              "ticks": ""
             }
            },
            "type": "scattergeo"
           }
          ],
          "scattergl": [
           {
            "marker": {
             "colorbar": {
              "outlinewidth": 0,
              "ticks": ""
             }
            },
            "type": "scattergl"
           }
          ],
          "scattermap": [
           {
            "marker": {
             "colorbar": {
              "outlinewidth": 0,
              "ticks": ""
             }
            },
            "type": "scattermap"
           }
          ],
          "scattermapbox": [
           {
            "marker": {
             "colorbar": {
              "outlinewidth": 0,
              "ticks": ""
             }
            },
            "type": "scattermapbox"
           }
          ],
          "scatterpolar": [
           {
            "marker": {
             "colorbar": {
              "outlinewidth": 0,
              "ticks": ""
             }
            },
            "type": "scatterpolar"
           }
          ],
          "scatterpolargl": [
           {
            "marker": {
             "colorbar": {
              "outlinewidth": 0,
              "ticks": ""
             }
            },
            "type": "scatterpolargl"
           }
          ],
          "scatterternary": [
           {
            "marker": {
             "colorbar": {
              "outlinewidth": 0,
              "ticks": ""
             }
            },
            "type": "scatterternary"
           }
          ],
          "surface": [
           {
            "colorbar": {
             "outlinewidth": 0,
             "ticks": ""
            },
            "colorscale": [
             [
              0,
              "#0d0887"
             ],
             [
              0.1111111111111111,
              "#46039f"
             ],
             [
              0.2222222222222222,
              "#7201a8"
             ],
             [
              0.3333333333333333,
              "#9c179e"
             ],
             [
              0.4444444444444444,
              "#bd3786"
             ],
             [
              0.5555555555555556,
              "#d8576b"
             ],
             [
              0.6666666666666666,
              "#ed7953"
             ],
             [
              0.7777777777777778,
              "#fb9f3a"
             ],
             [
              0.8888888888888888,
              "#fdca26"
             ],
             [
              1,
              "#f0f921"
             ]
            ],
            "type": "surface"
           }
          ],
          "table": [
           {
            "cells": {
             "fill": {
              "color": "#EBF0F8"
             },
             "line": {
              "color": "white"
             }
            },
            "header": {
             "fill": {
              "color": "#C8D4E3"
             },
             "line": {
              "color": "white"
             }
            },
            "type": "table"
           }
          ]
         },
         "layout": {
          "annotationdefaults": {
           "arrowcolor": "#2a3f5f",
           "arrowhead": 0,
           "arrowwidth": 1
          },
          "autotypenumbers": "strict",
          "coloraxis": {
           "colorbar": {
            "outlinewidth": 0,
            "ticks": ""
           }
          },
          "colorscale": {
           "diverging": [
            [
             0,
             "#8e0152"
            ],
            [
             0.1,
             "#c51b7d"
            ],
            [
             0.2,
             "#de77ae"
            ],
            [
             0.3,
             "#f1b6da"
            ],
            [
             0.4,
             "#fde0ef"
            ],
            [
             0.5,
             "#f7f7f7"
            ],
            [
             0.6,
             "#e6f5d0"
            ],
            [
             0.7,
             "#b8e186"
            ],
            [
             0.8,
             "#7fbc41"
            ],
            [
             0.9,
             "#4d9221"
            ],
            [
             1,
             "#276419"
            ]
           ],
           "sequential": [
            [
             0,
             "#0d0887"
            ],
            [
             0.1111111111111111,
             "#46039f"
            ],
            [
             0.2222222222222222,
             "#7201a8"
            ],
            [
             0.3333333333333333,
             "#9c179e"
            ],
            [
             0.4444444444444444,
             "#bd3786"
            ],
            [
             0.5555555555555556,
             "#d8576b"
            ],
            [
             0.6666666666666666,
             "#ed7953"
            ],
            [
             0.7777777777777778,
             "#fb9f3a"
            ],
            [
             0.8888888888888888,
             "#fdca26"
            ],
            [
             1,
             "#f0f921"
            ]
           ],
           "sequentialminus": [
            [
             0,
             "#0d0887"
            ],
            [
             0.1111111111111111,
             "#46039f"
            ],
            [
             0.2222222222222222,
             "#7201a8"
            ],
            [
             0.3333333333333333,
             "#9c179e"
            ],
            [
             0.4444444444444444,
             "#bd3786"
            ],
            [
             0.5555555555555556,
             "#d8576b"
            ],
            [
             0.6666666666666666,
             "#ed7953"
            ],
            [
             0.7777777777777778,
             "#fb9f3a"
            ],
            [
             0.8888888888888888,
             "#fdca26"
            ],
            [
             1,
             "#f0f921"
            ]
           ]
          },
          "colorway": [
           "#636efa",
           "#EF553B",
           "#00cc96",
           "#ab63fa",
           "#FFA15A",
           "#19d3f3",
           "#FF6692",
           "#B6E880",
           "#FF97FF",
           "#FECB52"
          ],
          "font": {
           "color": "#2a3f5f"
          },
          "geo": {
           "bgcolor": "white",
           "lakecolor": "white",
           "landcolor": "#E5ECF6",
           "showlakes": true,
           "showland": true,
           "subunitcolor": "white"
          },
          "hoverlabel": {
           "align": "left"
          },
          "hovermode": "closest",
          "mapbox": {
           "style": "light"
          },
          "paper_bgcolor": "white",
          "plot_bgcolor": "#E5ECF6",
          "polar": {
           "angularaxis": {
            "gridcolor": "white",
            "linecolor": "white",
            "ticks": ""
           },
           "bgcolor": "#E5ECF6",
           "radialaxis": {
            "gridcolor": "white",
            "linecolor": "white",
            "ticks": ""
           }
          },
          "scene": {
           "xaxis": {
            "backgroundcolor": "#E5ECF6",
            "gridcolor": "white",
            "gridwidth": 2,
            "linecolor": "white",
            "showbackground": true,
            "ticks": "",
            "zerolinecolor": "white"
           },
           "yaxis": {
            "backgroundcolor": "#E5ECF6",
            "gridcolor": "white",
            "gridwidth": 2,
            "linecolor": "white",
            "showbackground": true,
            "ticks": "",
            "zerolinecolor": "white"
           },
           "zaxis": {
            "backgroundcolor": "#E5ECF6",
            "gridcolor": "white",
            "gridwidth": 2,
            "linecolor": "white",
            "showbackground": true,
            "ticks": "",
            "zerolinecolor": "white"
           }
          },
          "shapedefaults": {
           "line": {
            "color": "#2a3f5f"
           }
          },
          "ternary": {
           "aaxis": {
            "gridcolor": "white",
            "linecolor": "white",
            "ticks": ""
           },
           "baxis": {
            "gridcolor": "white",
            "linecolor": "white",
            "ticks": ""
           },
           "bgcolor": "#E5ECF6",
           "caxis": {
            "gridcolor": "white",
            "linecolor": "white",
            "ticks": ""
           }
          },
          "title": {
           "x": 0.05
          },
          "xaxis": {
           "automargin": true,
           "gridcolor": "white",
           "linecolor": "white",
           "ticks": "",
           "title": {
            "standoff": 15
           },
           "zerolinecolor": "white",
           "zerolinewidth": 2
          },
          "yaxis": {
           "automargin": true,
           "gridcolor": "white",
           "linecolor": "white",
           "ticks": "",
           "title": {
            "standoff": 15
           },
           "zerolinecolor": "white",
           "zerolinewidth": 2
          }
         }
        }
       }
      }
     },
     "metadata": {},
     "output_type": "display_data"
    }
   ],
   "source": [
    "#Additional Reference used: https://plotly.com/python/creating-and-updating-figures/\n",
    "#Reference for adding error bars: https://plotly.com/python/error-bars/\n",
    "\n",
    "# Create a bar chart\n",
    "covid_graph = go.Figure() #make empty figure (this can handle arguments though e.g., (data=[go.Bar(x=x1, y=y1)])\n",
    "\n",
    "#plot type and data for the first y variable Hospitalizations with COVID-19\n",
    "covid_graph.add_trace(go.Bar(x=x, y=y1, name='Hospitalizations with COVID-19', marker_color='green',\n",
    "                             error_y=dict(type='data', array=sem_hospitalizations, color='black')\n",
    "))\n",
    "\n",
    "#plot type and data for the second y variable ICU Patients with COVID-19\n",
    "covid_graph.add_trace(go.Bar(x=x, y=y2, name='ICU Patients with COVID-19', marker_color='red',\n",
    "                              error_y=dict(type='data', array=sem_icu, color='black')\n",
    "))\n"
   ]
  },
  {
   "cell_type": "code",
   "execution_count": 9,
   "id": "2cef25ea",
   "metadata": {},
   "outputs": [
    {
     "data": {
      "application/vnd.plotly.v1+json": {
       "config": {
        "plotlyServerURL": "https://plot.ly"
       },
       "data": [
        {
         "error_y": {
          "array": {
           "bdata": "gScYapEpNkDdSX5fE60aQNcPj4cKDvs/fPLTfmXaBECQRfRNDQMSQKH5E/oi4Q5Ay7hI7FdFCEDyfgquorUcQMQA9C2gmQ5AuquEDOJeGUBk6Nd/HD0BQA==",
           "dtype": "f8"
          },
          "color": "black",
          "type": "data"
         },
         "marker": {
          "color": "green"
         },
         "name": "Hospitalizations with COVID-19",
         "type": "bar",
         "x": [
          "January",
          "February",
          "March",
          "April",
          "May",
          "June",
          "July",
          "August",
          "September",
          "October",
          "November"
         ],
         "y": {
          "bdata": "KaWUUkppbUDmnkZY7ilWQLbWWmutNURA7+7u7u5uRUDnnHPOOedWQM3MzMzMTFNAzjnnnHOOVEB877333rtbQM3MzMzMTGBAnXPOOedcXEB7FK5H4fpWQA==",
          "dtype": "f8"
         }
        },
        {
         "error_y": {
          "array": {
           "bdata": "xFcGI0FM7z9zSqOCa1zrP7eE0SRwvdE/9yXXu2T5yj/ps6GhMNTTPwlcAEH9fNc/NmVQxwZH5j/7R3TBXKbkP77Puldj+N4/dkCPEMco5D84gp6T83LXPw==",
           "dtype": "f8"
          },
          "color": "black",
          "type": "data"
         },
         "marker": {
          "color": "red"
         },
         "name": "ICU Patients with COVID-19",
         "type": "bar",
         "x": [
          "January",
          "February",
          "March",
          "April",
          "May",
          "June",
          "July",
          "August",
          "September",
          "October",
          "November"
         ],
         "y": {
          "bdata": "jDHGGGOMMUBzTyMs9zQeQBljjDHGGAtAVVVVVVVVCUCdc84555wDQERERERERABACCGEEEIIEUDnnHPOOecQQJqZmZmZmRNAIYQQQgghFEC4HoXrUbgWQA==",
          "dtype": "f8"
         }
        }
       ],
       "layout": {
        "legend": {
         "title": {
          "text": "Legend"
         }
        },
        "template": {
         "data": {
          "bar": [
           {
            "error_x": {
             "color": "#2a3f5f"
            },
            "error_y": {
             "color": "#2a3f5f"
            },
            "marker": {
             "line": {
              "color": "#E5ECF6",
              "width": 0.5
             },
             "pattern": {
              "fillmode": "overlay",
              "size": 10,
              "solidity": 0.2
             }
            },
            "type": "bar"
           }
          ],
          "barpolar": [
           {
            "marker": {
             "line": {
              "color": "#E5ECF6",
              "width": 0.5
             },
             "pattern": {
              "fillmode": "overlay",
              "size": 10,
              "solidity": 0.2
             }
            },
            "type": "barpolar"
           }
          ],
          "carpet": [
           {
            "aaxis": {
             "endlinecolor": "#2a3f5f",
             "gridcolor": "white",
             "linecolor": "white",
             "minorgridcolor": "white",
             "startlinecolor": "#2a3f5f"
            },
            "baxis": {
             "endlinecolor": "#2a3f5f",
             "gridcolor": "white",
             "linecolor": "white",
             "minorgridcolor": "white",
             "startlinecolor": "#2a3f5f"
            },
            "type": "carpet"
           }
          ],
          "choropleth": [
           {
            "colorbar": {
             "outlinewidth": 0,
             "ticks": ""
            },
            "type": "choropleth"
           }
          ],
          "contour": [
           {
            "colorbar": {
             "outlinewidth": 0,
             "ticks": ""
            },
            "colorscale": [
             [
              0,
              "#0d0887"
             ],
             [
              0.1111111111111111,
              "#46039f"
             ],
             [
              0.2222222222222222,
              "#7201a8"
             ],
             [
              0.3333333333333333,
              "#9c179e"
             ],
             [
              0.4444444444444444,
              "#bd3786"
             ],
             [
              0.5555555555555556,
              "#d8576b"
             ],
             [
              0.6666666666666666,
              "#ed7953"
             ],
             [
              0.7777777777777778,
              "#fb9f3a"
             ],
             [
              0.8888888888888888,
              "#fdca26"
             ],
             [
              1,
              "#f0f921"
             ]
            ],
            "type": "contour"
           }
          ],
          "contourcarpet": [
           {
            "colorbar": {
             "outlinewidth": 0,
             "ticks": ""
            },
            "type": "contourcarpet"
           }
          ],
          "heatmap": [
           {
            "colorbar": {
             "outlinewidth": 0,
             "ticks": ""
            },
            "colorscale": [
             [
              0,
              "#0d0887"
             ],
             [
              0.1111111111111111,
              "#46039f"
             ],
             [
              0.2222222222222222,
              "#7201a8"
             ],
             [
              0.3333333333333333,
              "#9c179e"
             ],
             [
              0.4444444444444444,
              "#bd3786"
             ],
             [
              0.5555555555555556,
              "#d8576b"
             ],
             [
              0.6666666666666666,
              "#ed7953"
             ],
             [
              0.7777777777777778,
              "#fb9f3a"
             ],
             [
              0.8888888888888888,
              "#fdca26"
             ],
             [
              1,
              "#f0f921"
             ]
            ],
            "type": "heatmap"
           }
          ],
          "histogram": [
           {
            "marker": {
             "pattern": {
              "fillmode": "overlay",
              "size": 10,
              "solidity": 0.2
             }
            },
            "type": "histogram"
           }
          ],
          "histogram2d": [
           {
            "colorbar": {
             "outlinewidth": 0,
             "ticks": ""
            },
            "colorscale": [
             [
              0,
              "#0d0887"
             ],
             [
              0.1111111111111111,
              "#46039f"
             ],
             [
              0.2222222222222222,
              "#7201a8"
             ],
             [
              0.3333333333333333,
              "#9c179e"
             ],
             [
              0.4444444444444444,
              "#bd3786"
             ],
             [
              0.5555555555555556,
              "#d8576b"
             ],
             [
              0.6666666666666666,
              "#ed7953"
             ],
             [
              0.7777777777777778,
              "#fb9f3a"
             ],
             [
              0.8888888888888888,
              "#fdca26"
             ],
             [
              1,
              "#f0f921"
             ]
            ],
            "type": "histogram2d"
           }
          ],
          "histogram2dcontour": [
           {
            "colorbar": {
             "outlinewidth": 0,
             "ticks": ""
            },
            "colorscale": [
             [
              0,
              "#0d0887"
             ],
             [
              0.1111111111111111,
              "#46039f"
             ],
             [
              0.2222222222222222,
              "#7201a8"
             ],
             [
              0.3333333333333333,
              "#9c179e"
             ],
             [
              0.4444444444444444,
              "#bd3786"
             ],
             [
              0.5555555555555556,
              "#d8576b"
             ],
             [
              0.6666666666666666,
              "#ed7953"
             ],
             [
              0.7777777777777778,
              "#fb9f3a"
             ],
             [
              0.8888888888888888,
              "#fdca26"
             ],
             [
              1,
              "#f0f921"
             ]
            ],
            "type": "histogram2dcontour"
           }
          ],
          "mesh3d": [
           {
            "colorbar": {
             "outlinewidth": 0,
             "ticks": ""
            },
            "type": "mesh3d"
           }
          ],
          "parcoords": [
           {
            "line": {
             "colorbar": {
              "outlinewidth": 0,
              "ticks": ""
             }
            },
            "type": "parcoords"
           }
          ],
          "pie": [
           {
            "automargin": true,
            "type": "pie"
           }
          ],
          "scatter": [
           {
            "fillpattern": {
             "fillmode": "overlay",
             "size": 10,
             "solidity": 0.2
            },
            "type": "scatter"
           }
          ],
          "scatter3d": [
           {
            "line": {
             "colorbar": {
              "outlinewidth": 0,
              "ticks": ""
             }
            },
            "marker": {
             "colorbar": {
              "outlinewidth": 0,
              "ticks": ""
             }
            },
            "type": "scatter3d"
           }
          ],
          "scattercarpet": [
           {
            "marker": {
             "colorbar": {
              "outlinewidth": 0,
              "ticks": ""
             }
            },
            "type": "scattercarpet"
           }
          ],
          "scattergeo": [
           {
            "marker": {
             "colorbar": {
              "outlinewidth": 0,
              "ticks": ""
             }
            },
            "type": "scattergeo"
           }
          ],
          "scattergl": [
           {
            "marker": {
             "colorbar": {
              "outlinewidth": 0,
              "ticks": ""
             }
            },
            "type": "scattergl"
           }
          ],
          "scattermap": [
           {
            "marker": {
             "colorbar": {
              "outlinewidth": 0,
              "ticks": ""
             }
            },
            "type": "scattermap"
           }
          ],
          "scattermapbox": [
           {
            "marker": {
             "colorbar": {
              "outlinewidth": 0,
              "ticks": ""
             }
            },
            "type": "scattermapbox"
           }
          ],
          "scatterpolar": [
           {
            "marker": {
             "colorbar": {
              "outlinewidth": 0,
              "ticks": ""
             }
            },
            "type": "scatterpolar"
           }
          ],
          "scatterpolargl": [
           {
            "marker": {
             "colorbar": {
              "outlinewidth": 0,
              "ticks": ""
             }
            },
            "type": "scatterpolargl"
           }
          ],
          "scatterternary": [
           {
            "marker": {
             "colorbar": {
              "outlinewidth": 0,
              "ticks": ""
             }
            },
            "type": "scatterternary"
           }
          ],
          "surface": [
           {
            "colorbar": {
             "outlinewidth": 0,
             "ticks": ""
            },
            "colorscale": [
             [
              0,
              "#0d0887"
             ],
             [
              0.1111111111111111,
              "#46039f"
             ],
             [
              0.2222222222222222,
              "#7201a8"
             ],
             [
              0.3333333333333333,
              "#9c179e"
             ],
             [
              0.4444444444444444,
              "#bd3786"
             ],
             [
              0.5555555555555556,
              "#d8576b"
             ],
             [
              0.6666666666666666,
              "#ed7953"
             ],
             [
              0.7777777777777778,
              "#fb9f3a"
             ],
             [
              0.8888888888888888,
              "#fdca26"
             ],
             [
              1,
              "#f0f921"
             ]
            ],
            "type": "surface"
           }
          ],
          "table": [
           {
            "cells": {
             "fill": {
              "color": "#EBF0F8"
             },
             "line": {
              "color": "white"
             }
            },
            "header": {
             "fill": {
              "color": "#C8D4E3"
             },
             "line": {
              "color": "white"
             }
            },
            "type": "table"
           }
          ]
         },
         "layout": {
          "annotationdefaults": {
           "arrowcolor": "#2a3f5f",
           "arrowhead": 0,
           "arrowwidth": 1
          },
          "autotypenumbers": "strict",
          "coloraxis": {
           "colorbar": {
            "outlinewidth": 0,
            "ticks": ""
           }
          },
          "colorscale": {
           "diverging": [
            [
             0,
             "#8e0152"
            ],
            [
             0.1,
             "#c51b7d"
            ],
            [
             0.2,
             "#de77ae"
            ],
            [
             0.3,
             "#f1b6da"
            ],
            [
             0.4,
             "#fde0ef"
            ],
            [
             0.5,
             "#f7f7f7"
            ],
            [
             0.6,
             "#e6f5d0"
            ],
            [
             0.7,
             "#b8e186"
            ],
            [
             0.8,
             "#7fbc41"
            ],
            [
             0.9,
             "#4d9221"
            ],
            [
             1,
             "#276419"
            ]
           ],
           "sequential": [
            [
             0,
             "#0d0887"
            ],
            [
             0.1111111111111111,
             "#46039f"
            ],
            [
             0.2222222222222222,
             "#7201a8"
            ],
            [
             0.3333333333333333,
             "#9c179e"
            ],
            [
             0.4444444444444444,
             "#bd3786"
            ],
            [
             0.5555555555555556,
             "#d8576b"
            ],
            [
             0.6666666666666666,
             "#ed7953"
            ],
            [
             0.7777777777777778,
             "#fb9f3a"
            ],
            [
             0.8888888888888888,
             "#fdca26"
            ],
            [
             1,
             "#f0f921"
            ]
           ],
           "sequentialminus": [
            [
             0,
             "#0d0887"
            ],
            [
             0.1111111111111111,
             "#46039f"
            ],
            [
             0.2222222222222222,
             "#7201a8"
            ],
            [
             0.3333333333333333,
             "#9c179e"
            ],
            [
             0.4444444444444444,
             "#bd3786"
            ],
            [
             0.5555555555555556,
             "#d8576b"
            ],
            [
             0.6666666666666666,
             "#ed7953"
            ],
            [
             0.7777777777777778,
             "#fb9f3a"
            ],
            [
             0.8888888888888888,
             "#fdca26"
            ],
            [
             1,
             "#f0f921"
            ]
           ]
          },
          "colorway": [
           "#636efa",
           "#EF553B",
           "#00cc96",
           "#ab63fa",
           "#FFA15A",
           "#19d3f3",
           "#FF6692",
           "#B6E880",
           "#FF97FF",
           "#FECB52"
          ],
          "font": {
           "color": "#2a3f5f"
          },
          "geo": {
           "bgcolor": "white",
           "lakecolor": "white",
           "landcolor": "#E5ECF6",
           "showlakes": true,
           "showland": true,
           "subunitcolor": "white"
          },
          "hoverlabel": {
           "align": "left"
          },
          "hovermode": "closest",
          "mapbox": {
           "style": "light"
          },
          "paper_bgcolor": "white",
          "plot_bgcolor": "#E5ECF6",
          "polar": {
           "angularaxis": {
            "gridcolor": "white",
            "linecolor": "white",
            "ticks": ""
           },
           "bgcolor": "#E5ECF6",
           "radialaxis": {
            "gridcolor": "white",
            "linecolor": "white",
            "ticks": ""
           }
          },
          "scene": {
           "xaxis": {
            "backgroundcolor": "#E5ECF6",
            "gridcolor": "white",
            "gridwidth": 2,
            "linecolor": "white",
            "showbackground": true,
            "ticks": "",
            "zerolinecolor": "white"
           },
           "yaxis": {
            "backgroundcolor": "#E5ECF6",
            "gridcolor": "white",
            "gridwidth": 2,
            "linecolor": "white",
            "showbackground": true,
            "ticks": "",
            "zerolinecolor": "white"
           },
           "zaxis": {
            "backgroundcolor": "#E5ECF6",
            "gridcolor": "white",
            "gridwidth": 2,
            "linecolor": "white",
            "showbackground": true,
            "ticks": "",
            "zerolinecolor": "white"
           }
          },
          "shapedefaults": {
           "line": {
            "color": "#2a3f5f"
           }
          },
          "ternary": {
           "aaxis": {
            "gridcolor": "white",
            "linecolor": "white",
            "ticks": ""
           },
           "baxis": {
            "gridcolor": "white",
            "linecolor": "white",
            "ticks": ""
           },
           "bgcolor": "#E5ECF6",
           "caxis": {
            "gridcolor": "white",
            "linecolor": "white",
            "ticks": ""
           }
          },
          "title": {
           "x": 0.05
          },
          "xaxis": {
           "automargin": true,
           "gridcolor": "white",
           "linecolor": "white",
           "ticks": "",
           "title": {
            "standoff": 15
           },
           "zerolinecolor": "white",
           "zerolinewidth": 2
          },
          "yaxis": {
           "automargin": true,
           "gridcolor": "white",
           "linecolor": "white",
           "ticks": "",
           "title": {
            "standoff": 15
           },
           "zerolinecolor": "white",
           "zerolinewidth": 2
          }
         }
        },
        "title": {
         "font": {
          "color": "black",
          "family": "Arial",
          "size": 20
         },
         "text": "2024 Monthly Average of Covid Hospitalizations and ICU Patients in Toronto"
        },
        "xaxis": {
         "title": {
          "font": {
           "color": "black",
           "family": "Comic Sans MS",
           "size": 12
          },
          "text": "Month"
         }
        },
        "yaxis": {
         "title": {
          "font": {
           "color": "black",
           "family": "Comic Sans MS",
           "size": 12
          },
          "text": "Average Number of Patients"
         }
        }
       }
      }
     },
     "metadata": {},
     "output_type": "display_data"
    }
   ],
   "source": [
    "# Add titles and labels to the graph\n",
    "# Additional Reference: https://plotly.com/python/figure-labels/\n",
    "covid_graph.update_layout(\n",
    "    title= dict(text='2024 Monthly Average of Covid Hospitalizations and ICU Patients in Toronto', font = title_font),\n",
    "    xaxis_title= dict(text='Month', font = x_font),\n",
    "    yaxis_title= dict(text='Average Number of Patients', font = y_font),\n",
    "    legend_title_text='Legend'   \n",
    ")\n",
    "\n",
    "covid_graph.show()"
   ]
  }
 ],
 "metadata": {
  "kernelspec": {
   "display_name": "base",
   "language": "python",
   "name": "python3"
  },
  "language_info": {
   "codemirror_mode": {
    "name": "ipython",
    "version": 3
   },
   "file_extension": ".py",
   "mimetype": "text/x-python",
   "name": "python",
   "nbconvert_exporter": "python",
   "pygments_lexer": "ipython3",
   "version": "3.12.2"
  }
 },
 "nbformat": 4,
 "nbformat_minor": 5
}
